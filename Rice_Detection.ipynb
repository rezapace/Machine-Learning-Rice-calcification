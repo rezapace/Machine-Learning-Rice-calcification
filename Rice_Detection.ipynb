{
  "nbformat": 4,
  "nbformat_minor": 0,
  "metadata": {
    "colab": {
      "provenance": []
    },
    "kernelspec": {
      "name": "python3",
      "display_name": "Python 3"
    },
    "language_info": {
      "name": "python"
    }
  },
  "cells": [
    {
      "cell_type": "markdown",
      "source": [
        "# Unizip Program"
      ],
      "metadata": {
        "id": "9UIQ41cB7Y3a"
      }
    },
    {
      "cell_type": "code",
      "source": [
        "!apt install unzip\n",
        "\n",
        "!unzip -q \"/content/Rice_Image_Dataset.zip\""
      ],
      "metadata": {
        "colab": {
          "base_uri": "https://localhost:8080/"
        },
        "id": "FBm-vHRnYbM7",
        "outputId": "0b202d41-972a-4eaa-b37d-2bdda498ee49"
      },
      "execution_count": 1,
      "outputs": [
        {
          "output_type": "stream",
          "name": "stdout",
          "text": [
            "Reading package lists... Done\n",
            "Building dependency tree... Done\n",
            "Reading state information... Done\n",
            "unzip is already the newest version (6.0-26ubuntu3.2).\n",
            "0 upgraded, 0 newly installed, 0 to remove and 45 not upgraded.\n"
          ]
        }
      ]
    },
    {
      "cell_type": "markdown",
      "source": [
        "---"
      ],
      "metadata": {
        "id": "X7Lcvhf-7bCc"
      }
    },
    {
      "cell_type": "markdown",
      "source": [
        "# Get Dataset"
      ],
      "metadata": {
        "id": "k5J9VjVwAQYw"
      }
    },
    {
      "cell_type": "code",
      "source": [
        "!apt install git\n",
        "\n",
        "!git clone \"https://github.com/rezapace/Machine-Learning-Rice-calcification\""
      ],
      "metadata": {
        "id": "CyLS8QbjAAnZ"
      },
      "execution_count": null,
      "outputs": []
    },
    {
      "cell_type": "markdown",
      "source": [
        "---"
      ],
      "metadata": {
        "id": "n1D4zaRIAYBI"
      }
    },
    {
      "cell_type": "markdown",
      "source": [
        "# Machine-Learning-Rice-calcification"
      ],
      "metadata": {
        "id": "NT5epM7yAaOk"
      }
    },
    {
      "cell_type": "code",
      "execution_count": 4,
      "metadata": {
        "colab": {
          "base_uri": "https://localhost:8080/"
        },
        "id": "KFl6iVO_Wq9X",
        "outputId": "f02b8adc-4177-4d0d-c370-802074aa634c"
      },
      "outputs": [
        {
          "output_type": "stream",
          "name": "stdout",
          "text": [
            "Requirement already satisfied: tensorflow in /usr/local/lib/python3.10/dist-packages (2.15.0)\n",
            "Requirement already satisfied: scikit-learn in /usr/local/lib/python3.10/dist-packages (1.2.2)\n",
            "Requirement already satisfied: matplotlib in /usr/local/lib/python3.10/dist-packages (3.7.1)\n",
            "Requirement already satisfied: absl-py>=1.0.0 in /usr/local/lib/python3.10/dist-packages (from tensorflow) (1.4.0)\n",
            "Requirement already satisfied: astunparse>=1.6.0 in /usr/local/lib/python3.10/dist-packages (from tensorflow) (1.6.3)\n",
            "Requirement already satisfied: flatbuffers>=23.5.26 in /usr/local/lib/python3.10/dist-packages (from tensorflow) (24.3.25)\n",
            "Requirement already satisfied: gast!=0.5.0,!=0.5.1,!=0.5.2,>=0.2.1 in /usr/local/lib/python3.10/dist-packages (from tensorflow) (0.5.5)\n",
            "Requirement already satisfied: google-pasta>=0.1.1 in /usr/local/lib/python3.10/dist-packages (from tensorflow) (0.2.0)\n",
            "Requirement already satisfied: h5py>=2.9.0 in /usr/local/lib/python3.10/dist-packages (from tensorflow) (3.9.0)\n",
            "Requirement already satisfied: libclang>=13.0.0 in /usr/local/lib/python3.10/dist-packages (from tensorflow) (18.1.1)\n",
            "Requirement already satisfied: ml-dtypes~=0.2.0 in /usr/local/lib/python3.10/dist-packages (from tensorflow) (0.2.0)\n",
            "Requirement already satisfied: numpy<2.0.0,>=1.23.5 in /usr/local/lib/python3.10/dist-packages (from tensorflow) (1.25.2)\n",
            "Requirement already satisfied: opt-einsum>=2.3.2 in /usr/local/lib/python3.10/dist-packages (from tensorflow) (3.3.0)\n",
            "Requirement already satisfied: packaging in /usr/local/lib/python3.10/dist-packages (from tensorflow) (24.1)\n",
            "Requirement already satisfied: protobuf!=4.21.0,!=4.21.1,!=4.21.2,!=4.21.3,!=4.21.4,!=4.21.5,<5.0.0dev,>=3.20.3 in /usr/local/lib/python3.10/dist-packages (from tensorflow) (3.20.3)\n",
            "Requirement already satisfied: setuptools in /usr/local/lib/python3.10/dist-packages (from tensorflow) (67.7.2)\n",
            "Requirement already satisfied: six>=1.12.0 in /usr/local/lib/python3.10/dist-packages (from tensorflow) (1.16.0)\n",
            "Requirement already satisfied: termcolor>=1.1.0 in /usr/local/lib/python3.10/dist-packages (from tensorflow) (2.4.0)\n",
            "Requirement already satisfied: typing-extensions>=3.6.6 in /usr/local/lib/python3.10/dist-packages (from tensorflow) (4.12.2)\n",
            "Requirement already satisfied: wrapt<1.15,>=1.11.0 in /usr/local/lib/python3.10/dist-packages (from tensorflow) (1.14.1)\n",
            "Requirement already satisfied: tensorflow-io-gcs-filesystem>=0.23.1 in /usr/local/lib/python3.10/dist-packages (from tensorflow) (0.37.0)\n",
            "Requirement already satisfied: grpcio<2.0,>=1.24.3 in /usr/local/lib/python3.10/dist-packages (from tensorflow) (1.64.1)\n",
            "Requirement already satisfied: tensorboard<2.16,>=2.15 in /usr/local/lib/python3.10/dist-packages (from tensorflow) (2.15.2)\n",
            "Requirement already satisfied: tensorflow-estimator<2.16,>=2.15.0 in /usr/local/lib/python3.10/dist-packages (from tensorflow) (2.15.0)\n",
            "Requirement already satisfied: keras<2.16,>=2.15.0 in /usr/local/lib/python3.10/dist-packages (from tensorflow) (2.15.0)\n",
            "Requirement already satisfied: scipy>=1.3.2 in /usr/local/lib/python3.10/dist-packages (from scikit-learn) (1.11.4)\n",
            "Requirement already satisfied: joblib>=1.1.1 in /usr/local/lib/python3.10/dist-packages (from scikit-learn) (1.4.2)\n",
            "Requirement already satisfied: threadpoolctl>=2.0.0 in /usr/local/lib/python3.10/dist-packages (from scikit-learn) (3.5.0)\n",
            "Requirement already satisfied: contourpy>=1.0.1 in /usr/local/lib/python3.10/dist-packages (from matplotlib) (1.2.1)\n",
            "Requirement already satisfied: cycler>=0.10 in /usr/local/lib/python3.10/dist-packages (from matplotlib) (0.12.1)\n",
            "Requirement already satisfied: fonttools>=4.22.0 in /usr/local/lib/python3.10/dist-packages (from matplotlib) (4.53.0)\n",
            "Requirement already satisfied: kiwisolver>=1.0.1 in /usr/local/lib/python3.10/dist-packages (from matplotlib) (1.4.5)\n",
            "Requirement already satisfied: pillow>=6.2.0 in /usr/local/lib/python3.10/dist-packages (from matplotlib) (9.4.0)\n",
            "Requirement already satisfied: pyparsing>=2.3.1 in /usr/local/lib/python3.10/dist-packages (from matplotlib) (3.1.2)\n",
            "Requirement already satisfied: python-dateutil>=2.7 in /usr/local/lib/python3.10/dist-packages (from matplotlib) (2.8.2)\n",
            "Requirement already satisfied: wheel<1.0,>=0.23.0 in /usr/local/lib/python3.10/dist-packages (from astunparse>=1.6.0->tensorflow) (0.43.0)\n",
            "Requirement already satisfied: google-auth<3,>=1.6.3 in /usr/local/lib/python3.10/dist-packages (from tensorboard<2.16,>=2.15->tensorflow) (2.27.0)\n",
            "Requirement already satisfied: google-auth-oauthlib<2,>=0.5 in /usr/local/lib/python3.10/dist-packages (from tensorboard<2.16,>=2.15->tensorflow) (1.2.0)\n",
            "Requirement already satisfied: markdown>=2.6.8 in /usr/local/lib/python3.10/dist-packages (from tensorboard<2.16,>=2.15->tensorflow) (3.6)\n",
            "Requirement already satisfied: requests<3,>=2.21.0 in /usr/local/lib/python3.10/dist-packages (from tensorboard<2.16,>=2.15->tensorflow) (2.31.0)\n",
            "Requirement already satisfied: tensorboard-data-server<0.8.0,>=0.7.0 in /usr/local/lib/python3.10/dist-packages (from tensorboard<2.16,>=2.15->tensorflow) (0.7.2)\n",
            "Requirement already satisfied: werkzeug>=1.0.1 in /usr/local/lib/python3.10/dist-packages (from tensorboard<2.16,>=2.15->tensorflow) (3.0.3)\n",
            "Requirement already satisfied: cachetools<6.0,>=2.0.0 in /usr/local/lib/python3.10/dist-packages (from google-auth<3,>=1.6.3->tensorboard<2.16,>=2.15->tensorflow) (5.3.3)\n",
            "Requirement already satisfied: pyasn1-modules>=0.2.1 in /usr/local/lib/python3.10/dist-packages (from google-auth<3,>=1.6.3->tensorboard<2.16,>=2.15->tensorflow) (0.4.0)\n",
            "Requirement already satisfied: rsa<5,>=3.1.4 in /usr/local/lib/python3.10/dist-packages (from google-auth<3,>=1.6.3->tensorboard<2.16,>=2.15->tensorflow) (4.9)\n",
            "Requirement already satisfied: requests-oauthlib>=0.7.0 in /usr/local/lib/python3.10/dist-packages (from google-auth-oauthlib<2,>=0.5->tensorboard<2.16,>=2.15->tensorflow) (1.3.1)\n",
            "Requirement already satisfied: charset-normalizer<4,>=2 in /usr/local/lib/python3.10/dist-packages (from requests<3,>=2.21.0->tensorboard<2.16,>=2.15->tensorflow) (3.3.2)\n",
            "Requirement already satisfied: idna<4,>=2.5 in /usr/local/lib/python3.10/dist-packages (from requests<3,>=2.21.0->tensorboard<2.16,>=2.15->tensorflow) (3.7)\n",
            "Requirement already satisfied: urllib3<3,>=1.21.1 in /usr/local/lib/python3.10/dist-packages (from requests<3,>=2.21.0->tensorboard<2.16,>=2.15->tensorflow) (2.0.7)\n",
            "Requirement already satisfied: certifi>=2017.4.17 in /usr/local/lib/python3.10/dist-packages (from requests<3,>=2.21.0->tensorboard<2.16,>=2.15->tensorflow) (2024.6.2)\n",
            "Requirement already satisfied: MarkupSafe>=2.1.1 in /usr/local/lib/python3.10/dist-packages (from werkzeug>=1.0.1->tensorboard<2.16,>=2.15->tensorflow) (2.1.5)\n",
            "Requirement already satisfied: pyasn1<0.7.0,>=0.4.6 in /usr/local/lib/python3.10/dist-packages (from pyasn1-modules>=0.2.1->google-auth<3,>=1.6.3->tensorboard<2.16,>=2.15->tensorflow) (0.6.0)\n",
            "Requirement already satisfied: oauthlib>=3.0.0 in /usr/local/lib/python3.10/dist-packages (from requests-oauthlib>=0.7.0->google-auth-oauthlib<2,>=0.5->tensorboard<2.16,>=2.15->tensorflow) (3.2.2)\n"
          ]
        }
      ],
      "source": [
        "# Install Package\n",
        "!pip install tensorflow scikit-learn matplotlib\n",
        "import os\n",
        "import numpy as np\n",
        "import matplotlib.pyplot as plt\n",
        "import tensorflow as tf\n",
        "from tensorflow.keras.preprocessing.image import ImageDataGenerator\n",
        "from tensorflow.keras.models import Sequential, load_model\n",
        "from tensorflow.keras.layers import Conv2D, MaxPooling2D, Flatten, Dense\n",
        "from tensorflow.keras.optimizers import RMSprop\n",
        "from tensorflow.keras.callbacks import ReduceLROnPlateau, ModelCheckpoint, EarlyStopping\n",
        "from sklearn.metrics import classification_report, confusion_matrix, ConfusionMatrixDisplay"
      ]
    },
    {
      "cell_type": "code",
      "source": [
        "# Define paths\n",
        "DATASET_PATH = \"/content/Rice_Image_Dataset/\"\n",
        "TRAIN_DIR = os.path.join(DATASET_PATH, 'train')\n",
        "VAL_DIR = os.path.join(DATASET_PATH, 'val')\n",
        "TEST_DIR = os.path.join(DATASET_PATH, 'test')\n",
        "SAVED_MODEL_DIR = \"/content/Rice_Image_Dataset\"\n",
        "\n",
        "# Ensure directories exist\n",
        "def check_directory(path):\n",
        "    if not os.path.exists(path):\n",
        "        raise FileNotFoundError(f\"Directory not found: {path}\")\n",
        "\n",
        "try:\n",
        "    check_directory(TRAIN_DIR)\n",
        "    check_directory(VAL_DIR)\n",
        "    check_directory(TEST_DIR)\n",
        "    check_directory(SAVED_MODEL_DIR)\n",
        "except FileNotFoundError as e:\n",
        "    print(e)\n",
        "    raise"
      ],
      "metadata": {
        "id": "lD6kOpV4W8S5"
      },
      "execution_count": 6,
      "outputs": []
    },
    {
      "cell_type": "code",
      "source": [
        "# Data generators\n",
        "train_val_datagen = ImageDataGenerator(\n",
        "    rescale=1./255, rotation_range=35, zoom_range=[0.5, 1.1],\n",
        "    width_shift_range=0.25, height_shift_range=0.25,\n",
        "    shear_range=0.15, horizontal_flip=True, vertical_flip=True\n",
        ")\n",
        "test_datagen = ImageDataGenerator(rescale=1./255)\n",
        "\n",
        "# Data loaders\n",
        "IMG_SIZE = (224, 224)\n",
        "batch_size = 32\n",
        "try:\n",
        "    train_set = train_val_datagen.flow_from_directory(\n",
        "        TRAIN_DIR, target_size=IMG_SIZE, batch_size=batch_size, class_mode=\"categorical\"\n",
        "    )\n",
        "    val_set = train_val_datagen.flow_from_directory(\n",
        "        VAL_DIR, target_size=IMG_SIZE, batch_size=batch_size, class_mode=\"categorical\"\n",
        "    )\n",
        "    test_set = test_datagen.flow_from_directory(\n",
        "        TEST_DIR, target_size=IMG_SIZE, batch_size=2*batch_size, class_mode=\"categorical\", shuffle=False\n",
        "    )\n",
        "except Exception as e:\n",
        "    print(f\"Error loading data: {e}\")\n",
        "    raise"
      ],
      "metadata": {
        "colab": {
          "base_uri": "https://localhost:8080/"
        },
        "id": "xzilR8ueW9wV",
        "outputId": "88525b8c-2bca-415c-a2be-401c9b55756f"
      },
      "execution_count": 7,
      "outputs": [
        {
          "output_type": "stream",
          "name": "stdout",
          "text": [
            "Found 100 images belonging to 2 classes.\n",
            "Found 100 images belonging to 2 classes.\n",
            "Found 100 images belonging to 2 classes.\n"
          ]
        }
      ]
    },
    {
      "cell_type": "code",
      "source": [
        "# Model definition\n",
        "def build_model():\n",
        "    try:\n",
        "        model = Sequential([\n",
        "            Conv2D(16, (3,3), activation='relu', input_shape=(224, 224, 3)),\n",
        "            MaxPooling2D(2, 2),\n",
        "            Conv2D(32, (3, 3), activation='relu'),\n",
        "            MaxPooling2D(2, 2),\n",
        "            Conv2D(64, (3, 3), activation='relu'),\n",
        "            MaxPooling2D(2, 2),\n",
        "            Conv2D(256, (5,5), activation='relu'),\n",
        "            MaxPooling2D(2,2),\n",
        "            Flatten(),\n",
        "            Dense(256, activation='relu'),\n",
        "            Dense(2, activation='softmax')\n",
        "        ])\n",
        "        model.compile(loss=\"categorical_crossentropy\", optimizer=RMSprop(learning_rate=1e-4, momentum=0.9), metrics=['accuracy'])\n",
        "        return model\n",
        "    except Exception as e:\n",
        "        print(f\"Error building model: {e}\")\n",
        "        raise\n",
        "\n",
        "# Instantiate the model\n",
        "model = build_model()"
      ],
      "metadata": {
        "id": "wAp28UHvXASK"
      },
      "execution_count": 8,
      "outputs": []
    },
    {
      "cell_type": "code",
      "source": [
        "# Training model\n",
        "# Callbacks\n",
        "reduce_lr = ReduceLROnPlateau(monitor='val_accuracy', min_lr=1e-8)\n",
        "checkpoint_cb = ModelCheckpoint(os.path.join(SAVED_MODEL_DIR, \"best_model.h5\"), save_best_only=True)\n",
        "early_stop_cb = EarlyStopping(patience=15, monitor='val_accuracy', restore_best_weights=True)\n",
        "\n",
        "# Training\n",
        "try:\n",
        "    history = model.fit(train_set, epochs=20, validation_data=val_set, callbacks=[reduce_lr, checkpoint_cb, early_stop_cb], verbose=2)\n",
        "    # Save final model\n",
        "    model.save(os.path.join(SAVED_MODEL_DIR, 'final_model.h5'))\n",
        "except Exception as e:\n",
        "    print(f\"Error during training or saving the model: {e}\")\n",
        "    raise"
      ],
      "metadata": {
        "colab": {
          "base_uri": "https://localhost:8080/"
        },
        "id": "iJQJosXpXB6M",
        "outputId": "597a23f6-c234-4d27-ac60-f7e2f0811963"
      },
      "execution_count": 9,
      "outputs": [
        {
          "output_type": "stream",
          "name": "stdout",
          "text": [
            "Epoch 1/20\n"
          ]
        },
        {
          "output_type": "stream",
          "name": "stderr",
          "text": [
            "/usr/local/lib/python3.10/dist-packages/keras/src/engine/training.py:3103: UserWarning: You are saving your model as an HDF5 file via `model.save()`. This file format is considered legacy. We recommend using instead the native Keras format, e.g. `model.save('my_model.keras')`.\n",
            "  saving_api.save_model(\n"
          ]
        },
        {
          "output_type": "stream",
          "name": "stdout",
          "text": [
            "4/4 - 18s - loss: 0.7452 - accuracy: 0.4700 - val_loss: 0.7081 - val_accuracy: 0.5100 - lr: 1.0000e-04 - 18s/epoch - 5s/step\n",
            "Epoch 2/20\n",
            "4/4 - 13s - loss: 0.6922 - accuracy: 0.5100 - val_loss: 0.6985 - val_accuracy: 0.4600 - lr: 1.0000e-04 - 13s/epoch - 3s/step\n",
            "Epoch 3/20\n",
            "4/4 - 10s - loss: 0.6988 - accuracy: 0.4600 - val_loss: 0.6914 - val_accuracy: 0.4900 - lr: 1.0000e-04 - 10s/epoch - 2s/step\n",
            "Epoch 4/20\n",
            "4/4 - 11s - loss: 0.6942 - accuracy: 0.5000 - val_loss: 0.6937 - val_accuracy: 0.4600 - lr: 1.0000e-04 - 11s/epoch - 3s/step\n",
            "Epoch 5/20\n",
            "4/4 - 11s - loss: 0.6913 - accuracy: 0.5300 - val_loss: 0.6914 - val_accuracy: 0.5100 - lr: 1.0000e-04 - 11s/epoch - 3s/step\n",
            "Epoch 6/20\n",
            "4/4 - 11s - loss: 0.6907 - accuracy: 0.5100 - val_loss: 0.6935 - val_accuracy: 0.4600 - lr: 1.0000e-04 - 11s/epoch - 3s/step\n",
            "Epoch 7/20\n",
            "4/4 - 13s - loss: 0.6857 - accuracy: 0.6600 - val_loss: 0.6967 - val_accuracy: 0.4400 - lr: 1.0000e-04 - 13s/epoch - 3s/step\n",
            "Epoch 8/20\n",
            "4/4 - 12s - loss: 0.6851 - accuracy: 0.5800 - val_loss: 0.6937 - val_accuracy: 0.5300 - lr: 1.0000e-04 - 12s/epoch - 3s/step\n",
            "Epoch 9/20\n",
            "4/4 - 12s - loss: 0.6770 - accuracy: 0.5500 - val_loss: 0.6815 - val_accuracy: 0.5800 - lr: 1.0000e-04 - 12s/epoch - 3s/step\n",
            "Epoch 10/20\n",
            "4/4 - 11s - loss: 0.6844 - accuracy: 0.5500 - val_loss: 0.7071 - val_accuracy: 0.5000 - lr: 1.0000e-04 - 11s/epoch - 3s/step\n",
            "Epoch 11/20\n",
            "4/4 - 12s - loss: 0.6891 - accuracy: 0.5300 - val_loss: 0.6913 - val_accuracy: 0.5100 - lr: 1.0000e-04 - 12s/epoch - 3s/step\n",
            "Epoch 12/20\n",
            "4/4 - 9s - loss: 0.6633 - accuracy: 0.6500 - val_loss: 0.7435 - val_accuracy: 0.5000 - lr: 1.0000e-04 - 9s/epoch - 2s/step\n",
            "Epoch 13/20\n",
            "4/4 - 12s - loss: 0.6603 - accuracy: 0.6100 - val_loss: 0.7011 - val_accuracy: 0.4900 - lr: 1.0000e-04 - 12s/epoch - 3s/step\n",
            "Epoch 14/20\n",
            "4/4 - 11s - loss: 0.6642 - accuracy: 0.5700 - val_loss: 0.7058 - val_accuracy: 0.5700 - lr: 1.0000e-04 - 11s/epoch - 3s/step\n",
            "Epoch 15/20\n",
            "4/4 - 11s - loss: 0.6584 - accuracy: 0.5600 - val_loss: 0.7489 - val_accuracy: 0.4800 - lr: 1.0000e-04 - 11s/epoch - 3s/step\n",
            "Epoch 16/20\n",
            "4/4 - 11s - loss: 0.5645 - accuracy: 0.6800 - val_loss: 0.6958 - val_accuracy: 0.6100 - lr: 1.0000e-04 - 11s/epoch - 3s/step\n",
            "Epoch 17/20\n",
            "4/4 - 12s - loss: 0.5448 - accuracy: 0.7200 - val_loss: 0.7879 - val_accuracy: 0.5200 - lr: 1.0000e-04 - 12s/epoch - 3s/step\n",
            "Epoch 18/20\n",
            "4/4 - 10s - loss: 0.4425 - accuracy: 0.8100 - val_loss: 0.9054 - val_accuracy: 0.5100 - lr: 1.0000e-04 - 10s/epoch - 2s/step\n",
            "Epoch 19/20\n",
            "4/4 - 10s - loss: 0.7231 - accuracy: 0.6800 - val_loss: 1.1013 - val_accuracy: 0.5500 - lr: 1.0000e-04 - 10s/epoch - 3s/step\n",
            "Epoch 20/20\n",
            "4/4 - 11s - loss: 0.6169 - accuracy: 0.7100 - val_loss: 1.1757 - val_accuracy: 0.4800 - lr: 1.0000e-04 - 11s/epoch - 3s/step\n"
          ]
        }
      ]
    },
    {
      "cell_type": "code",
      "source": [
        "# Evaluation function\n",
        "def evaluate_model(model, test_set):\n",
        "    try:\n",
        "        loss, accuracy = model.evaluate(test_set)\n",
        "        print(f'Loss: {loss:.4f}, Accuracy: {accuracy*100:.2f}%')\n",
        "\n",
        "        test_set.reset()\n",
        "        predictions = model.predict(test_set)\n",
        "        pred_classes = np.argmax(predictions, axis=1)\n",
        "        true_classes = test_set.classes\n",
        "        class_labels = list(test_set.class_indices.keys())\n",
        "\n",
        "        print(classification_report(true_classes, pred_classes, target_names=class_labels))\n",
        "\n",
        "        cm = confusion_matrix(true_classes, pred_classes)\n",
        "        disp = ConfusionMatrixDisplay(cm, display_labels=class_labels)\n",
        "        disp.plot()\n",
        "        plt.show()\n",
        "    except Exception as e:\n",
        "        print(f\"Error during model evaluation: {e}\")\n",
        "        raise\n",
        "\n",
        "# Load best model and evaluate\n",
        "try:\n",
        "    best_model = load_model(os.path.join(SAVED_MODEL_DIR, \"best_model.h5\"))\n",
        "    evaluate_model(best_model, test_set)\n",
        "except Exception as e:\n",
        "    print(f\"Error loading or evaluating the model: {e}\")\n",
        "    raise"
      ],
      "metadata": {
        "id": "SUof8w3uXDB6",
        "colab": {
          "base_uri": "https://localhost:8080/",
          "height": 663
        },
        "outputId": "77d24f37-8075-4165-af2b-a8b6d9dcdabd"
      },
      "execution_count": 10,
      "outputs": [
        {
          "output_type": "stream",
          "name": "stdout",
          "text": [
            "2/2 [==============================] - 2s 602ms/step - loss: 0.6704 - accuracy: 0.5900\n",
            "Loss: 0.6704, Accuracy: 59.00%\n",
            "2/2 [==============================] - 2s 1s/step\n",
            "              precision    recall  f1-score   support\n",
            "\n",
            "     Arborio       0.62      0.48      0.54        50\n",
            "     Jasmine       0.57      0.70      0.63        50\n",
            "\n",
            "    accuracy                           0.59       100\n",
            "   macro avg       0.59      0.59      0.58       100\n",
            "weighted avg       0.59      0.59      0.58       100\n",
            "\n"
          ]
        },
        {
          "output_type": "display_data",
          "data": {
            "text/plain": [
              "<Figure size 640x480 with 2 Axes>"
            ],
            "image/png": "[encoded data removed]"
          },
          "metadata": {}
        }
      ]
    }
  ]
}